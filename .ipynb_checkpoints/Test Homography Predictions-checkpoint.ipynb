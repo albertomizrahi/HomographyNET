{
 "cells": [
  {
   "cell_type": "code",
   "execution_count": null,
   "metadata": {},
   "outputs": [],
   "source": [
    "from tensorflow.keras.models import model_from_json\n",
    "\n",
    "# Load trained model\n",
    "json_file = open('hom_net_reg.json', 'r')\n",
    "model_json = json_file.read()\n",
    "json_file.close()\n",
    "\n",
    "model = model_from_json(model_json)\n",
    "# Load weights into new model\n",
    "model.load_weights(\"hom_net_reg.h5\")\n",
    "print(\"Model loaded!\")"
   ]
  },
  {
   "cell_type": "code",
   "execution_count": null,
   "metadata": {},
   "outputs": [],
   "source": [
    "import pickle\n",
    "\n",
    "# Load list of images from which the model was trained\n",
    "with open(\"examples_visualization.pickle\", \"rb\") as f:\n",
    "    # store the data as binary data stream\n",
    "    examples = pickle.load(f)"
   ]
  },
  {
   "cell_type": "code",
   "execution_count": null,
   "metadata": {},
   "outputs": [],
   "source": [
    "import matplotlib.image as mpimg\n",
    "from os.path import join\n",
    "import matplotlib.pyplot as plt\n",
    "import cv2 as cv\n",
    "\n",
    "TRAIN_IMAGES_PATH = '../../../../Desktop/train2017'\n",
    "\n",
    "IMG_WIDTH = 320\n",
    "IMG_HEIGHT = 240\n",
    "\n",
    "img_name = examples[2]\n",
    "img_name2 = 'test1.jpg'\n",
    "\n",
    "img = mpimg.imread(join(TRAIN_IMAGES_PATH, img_name))\n",
    "img = mpimg.imread(img_name2)\n",
    "resized_img = cv.resize(img, (IMG_WIDTH, IMG_HEIGHT))\n",
    "gray_img = cv.cvtColor(resized_img, cv.COLOR_RGB2GRAY)\n",
    "\n",
    "plt.imshow(resized_img)\n",
    "plt.show()"
   ]
  },
  {
   "cell_type": "code",
   "execution_count": null,
   "metadata": {},
   "outputs": [],
   "source": [
    "import hom_train\n",
    "import numpy as np\n",
    "\n",
    "patch_orig, patch_warped, corners_square, perturbed_corners_square = hom_train.generate_crop_patches(img)\n",
    "\n",
    "H_ab = cv.getPerspectiveTransform(np.float32(corners_square), np.float32(perturbed_corners_square))\n",
    "H_ba = np.linalg.inv(H_ab)\n",
    "\n",
    "resized_img_copy = resized_img.copy()\n",
    "\n",
    "cv.polylines(resized_img_copy, np.array([corners_square]), True, (0,0,255), 2)\n",
    "\n",
    "warped_img = cv.warpPerspective(resized_img_copy, H_ab, (IMG_WIDTH, IMG_HEIGHT))\n",
    "\n",
    "plt.imshow(warped_img)"
   ]
  },
  {
   "cell_type": "code",
   "execution_count": null,
   "metadata": {},
   "outputs": [],
   "source": [
    "top_left = corners_square[0]\n",
    "top_right = corners_square[1]\n",
    "bottom_right = corners_square[2]\n",
    "bottom_left = corners_square[3]\n",
    "\n",
    "plt.imshow(patch_orig, cmap='gray')\n",
    "plt.show()\n",
    "\n",
    "plt.imshow(patch_warped, cmap='gray')\n",
    "plt.show()"
   ]
  },
  {
   "cell_type": "code",
   "execution_count": null,
   "metadata": {},
   "outputs": [],
   "source": [
    "patch_size = 128\n",
    "test_example = np.zeros((1, patch_size, patch_size, 2))\n",
    "print(test_example.shape)\n",
    "test_example[0, :, :, 0] = patch_orig\n",
    "test_example[0, :, :, 1] = patch_warped\n",
    "\n",
    "prediction = model.predict(test_example)\n",
    "corner_diff = prediction.reshape(4, 2)\n",
    "print(corner_diff.shape)"
   ]
  },
  {
   "cell_type": "code",
   "execution_count": null,
   "metadata": {
    "scrolled": true
   },
   "outputs": [],
   "source": [
    "projected_corners = np.array(corners_square) + np.array(corner_diff)\n",
    "print(projected_corners)\n",
    "\n",
    "cv.polylines(warped_img, np.int32([projected_corners]), True, (0,255,0), 2)\n",
    "\n",
    "plt.imshow(warped_img)"
   ]
  },
  {
   "cell_type": "code",
   "execution_count": null,
   "metadata": {},
   "outputs": [],
   "source": [
    "import scipy.misc\n",
    "\n",
    "scipy.misc.imsave('rgb_gradient.png', warped_img)"
   ]
  }
 ],
 "metadata": {
  "kernelspec": {
   "display_name": "Python 3",
   "language": "python",
   "name": "python3"
  },
  "language_info": {
   "codemirror_mode": {
    "name": "ipython",
    "version": 3
   },
   "file_extension": ".py",
   "mimetype": "text/x-python",
   "name": "python",
   "nbconvert_exporter": "python",
   "pygments_lexer": "ipython3",
   "version": "3.6.8"
  }
 },
 "nbformat": 4,
 "nbformat_minor": 2
}
